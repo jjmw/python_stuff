{
 "cells": [
  {
   "cell_type": "code",
   "execution_count": 1,
   "metadata": {},
   "outputs": [],
   "source": [
    "class Enemy:\n",
    "    \n",
    "    def __init__(self, x):\n",
    "        self.life = x\n",
    "        print('this is te init function')\n",
    "        \n",
    "    \n",
    "    def attack(self):\n",
    "        print('auh')\n",
    "        self.life -= 1\n",
    "        \n",
    "    def checklife(self):\n",
    "        if self.life <= 0:\n",
    "            print('I am dead')\n",
    "        else:\n",
    "            print(str(self.life) + ' life left')"
   ]
  },
  {
   "cell_type": "code",
   "execution_count": 2,
   "metadata": {},
   "outputs": [
    {
     "name": "stdout",
     "output_type": "stream",
     "text": [
      "this is te init function\n",
      "5 life left\n",
      "this is te init function\n",
      "100 life left\n"
     ]
    }
   ],
   "source": [
    "enemy1 = Enemy(5)\n",
    "enemy1.checklife()\n",
    "\n",
    "e2 = Enemy(100)\n",
    "e2.checklife()"
   ]
  },
  {
   "cell_type": "code",
   "execution_count": 31,
   "metadata": {},
   "outputs": [],
   "source": [
    "class Vrouw():\n",
    "\n",
    "    def getLastName(self):\n",
    "        return 'lastname'\n",
    "    \n",
    "    def getVrouw(self):\n",
    "        return 'vrouw'\n",
    "        \n",
    "class Man():\n",
    "    def getMan(self):\n",
    "         return 'man'\n",
    "       \n",
    "    \n",
    "class Kind(Vrouw, Man):\n",
    "    def iets(self):\n",
    "        return 'iets'"
   ]
  },
  {
   "cell_type": "code",
   "execution_count": 32,
   "metadata": {},
   "outputs": [
    {
     "name": "stdout",
     "output_type": "stream",
     "text": [
      "man\n",
      "vrouw\n"
     ]
    }
   ],
   "source": [
    "x = Kind()\n",
    "print(x.getMan())\n",
    "print(x.getVrouw())"
   ]
  },
  {
   "cell_type": "code",
   "execution_count": 33,
   "metadata": {
    "collapsed": true
   },
   "outputs": [],
   "source": [
    "#Theading"
   ]
  },
  {
   "cell_type": "code",
   "execution_count": 36,
   "metadata": {},
   "outputs": [],
   "source": [
    "import threading\n",
    "\n",
    "class MyMessenger(threading.Thread):\n",
    "    def run(self):\n",
    "        for _ in range(10):\n",
    "            print(threading.currentThread().getName())"
   ]
  },
  {
   "cell_type": "code",
   "execution_count": 38,
   "metadata": {},
   "outputs": [
    {
     "name": "stdout",
     "output_type": "stream",
     "text": [
      "receive messages\n",
      "receive messages\n",
      "receive messages\n",
      "receive messages\n",
      "receive messages\n",
      "receive messages\n",
      "receive messages\n",
      "receive messages\n",
      "receive messages\n",
      "receive messages\n",
      "send out messages\n",
      "send out messages\n",
      "send out messages\n",
      "send out messages\n",
      "send out messages\n",
      "send out messages\n",
      "send out messages\n",
      "send out messages\n",
      "send out messages\n",
      "send out messages\n"
     ]
    }
   ],
   "source": [
    "x = MyMessenger(name='send out messages')\n",
    "y = MyMessenger(name='receive messages')\n",
    "y.start()\n",
    "x.start()\n"
   ]
  },
  {
   "cell_type": "code",
   "execution_count": 41,
   "metadata": {
    "collapsed": true
   },
   "outputs": [],
   "source": [
    "import requests\n",
    "from bs4 import BeautifulSoup\n",
    "import operator\n",
    "\n",
    "def start(url):\n",
    "    word_list = []\n",
    "    source_code = requests.get(url).text\n",
    "    soup = BeautifulSoup(source_code)\n",
    "    for post_text in soup.findAll('a', {'class': })"
   ]
  }
 ],
 "metadata": {
  "anaconda-cloud": {},
  "kernelspec": {
   "display_name": "Python 3",
   "language": "python",
   "name": "python3"
  },
  "language_info": {
   "codemirror_mode": {
    "name": "ipython",
    "version": 3
   },
   "file_extension": ".py",
   "mimetype": "text/x-python",
   "name": "python",
   "nbconvert_exporter": "python",
   "pygments_lexer": "ipython3",
   "version": "3.6.1"
  }
 },
 "nbformat": 4,
 "nbformat_minor": 1
}
