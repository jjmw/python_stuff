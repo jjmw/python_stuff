{
 "cells": [
  {
   "cell_type": "code",
   "execution_count": 2,
   "metadata": {
    "collapsed": true
   },
   "outputs": [],
   "source": [
    "string = '{\"first_name\":\"John\", \"last_name\":\"Willems\"}'"
   ]
  },
  {
   "cell_type": "code",
   "execution_count": 48,
   "metadata": {},
   "outputs": [
    {
     "name": "stdout",
     "output_type": "stream",
     "text": [
      "John\n"
     ]
    }
   ],
   "source": [
    "import json\n",
    "parsed_string = json.loads(string)\n",
    "print(parsed_string['first_name'])"
   ]
  },
  {
   "cell_type": "code",
   "execution_count": 4,
   "metadata": {},
   "outputs": [
    {
     "name": "stdout",
     "output_type": "stream",
     "text": [
      "John\n"
     ]
    }
   ],
   "source": [
    "print(parsed_string['first_name'])"
   ]
  },
  {
   "cell_type": "code",
   "execution_count": 18,
   "metadata": {},
   "outputs": [],
   "source": [
    "d = {'first_name': 'Guido',\n",
    "    'second_name': 'Rossum',\n",
    "    'titles': ['BDFL', 'Developer'],\n",
    "    }"
   ]
  },
  {
   "cell_type": "code",
   "execution_count": 20,
   "metadata": {},
   "outputs": [
    {
     "data": {
      "text/plain": [
       "'Developer'"
      ]
     },
     "execution_count": 20,
     "metadata": {},
     "output_type": "execute_result"
    }
   ],
   "source": [
    "d[\"titles\"][1]"
   ]
  },
  {
   "cell_type": "code",
   "execution_count": 21,
   "metadata": {},
   "outputs": [],
   "source": [
    "data = {\n",
    "   'name' : 'ACME',\n",
    "   'shares' : 100,\n",
    "   'price' : 542.23\n",
    "}"
   ]
  },
  {
   "cell_type": "code",
   "execution_count": 43,
   "metadata": {},
   "outputs": [
    {
     "name": "stdout",
     "output_type": "stream",
     "text": [
      "[{\"c\": 3.0, \"b\": [2, 4], \"z\": \"A\"}]\n",
      "[\n",
      "  {\n",
      "    \"b\":[\n",
      "      2,\n",
      "      4\n",
      "    ],\n",
      "    \"c\":3.0,\n",
      "    \"z\":\"A\"\n",
      "  }\n",
      "]\n"
     ]
    }
   ],
   "source": [
    "data = [ { 'z':'A', 'c':3.0 ,'b':(2, 4)} ]\n",
    "print(json.dumps(data,sort_keys=False))\n",
    "sorted = json.dumps(data,sort_keys=True, indent=2, separators=(',',''))\n",
    "print(sorted)"
   ]
  },
  {
   "cell_type": "code",
   "execution_count": 46,
   "metadata": {},
   "outputs": [
    {
     "name": "stdout",
     "output_type": "stream",
     "text": [
      "[\n",
      "{\n",
      "\"c\"\n",
      ": \n",
      "3.0\n",
      ", \n",
      "\"b\"\n",
      ": \n",
      "[2\n",
      ", 4\n",
      "]\n",
      ", \n",
      "\"z\"\n",
      ": \n",
      "\"A\"\n",
      "}\n",
      "]\n"
     ]
    }
   ],
   "source": [
    "encoder = json.JSONEncoder()\n",
    "for part in encoder.iterencode(data):\n",
    "    print(part)\n"
   ]
  },
  {
   "cell_type": "code",
   "execution_count": 76,
   "metadata": {
    "collapsed": true
   },
   "outputs": [],
   "source": [
    "class Employee(object):\n",
    "    def __init__(self,name1, name2):\n",
    "        self.name1 = name1\n",
    "        self.name2 = name2\n",
    "    def toJSON(self):\n",
    "        return json.dumps(self, default=lambda o: o.__dict__, \n",
    "            sort_keys=True, indent=4)"
   ]
  },
  {
   "cell_type": "code",
   "execution_count": 81,
   "metadata": {},
   "outputs": [
    {
     "data": {
      "text/plain": [
       "'aap'"
      ]
     },
     "execution_count": 81,
     "metadata": {},
     "output_type": "execute_result"
    }
   ],
   "source": [
    "ader = Employee('Olifant', 'aap')\n",
    "json.loads(ader.toJSON())['name2']"
   ]
  }
 ],
 "metadata": {
  "anaconda-cloud": {},
  "kernelspec": {
   "display_name": "Python 3",
   "language": "python",
   "name": "python3"
  },
  "language_info": {
   "codemirror_mode": {
    "name": "ipython",
    "version": 3
   },
   "file_extension": ".py",
   "mimetype": "text/x-python",
   "name": "python",
   "nbconvert_exporter": "python",
   "pygments_lexer": "ipython3",
   "version": "3.6.1"
  }
 },
 "nbformat": 4,
 "nbformat_minor": 1
}
